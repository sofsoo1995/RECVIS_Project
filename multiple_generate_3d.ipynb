{
 "cells": [
  {
   "cell_type": "markdown",
   "metadata": {},
   "source": [
    "# Evaluation of the model\n",
    "\n",
    "The goal is to compare the generated 3d model with the groud truth."
   ]
  },
  {
   "cell_type": "code",
   "execution_count": 1,
   "metadata": {
    "collapsed": false
   },
   "outputs": [],
   "source": [
    "from os.path import join, exists, abspath, dirname\n",
    "from os import makedirs\n",
    "import logging\n",
    "import sys, os\n",
    "\n",
    "sys.path.append(os.path.expanduser('/home/ubuntu/pynb/project/smpl/'))\n",
    "import cPickle as pickle\n",
    "from time import time\n",
    "from glob import glob\n",
    "import argparse\n",
    "\n",
    "import cv2\n",
    "import numpy as np\n",
    "import chumpy as ch\n",
    "\n",
    "from opendr.camera import ProjectPoints\n",
    "from lib.robustifiers import GMOf\n",
    "from smpl_webuser.serialization import load_model\n",
    "from smpl_webuser.lbs import global_rigid_transformation\n",
    "from smpl_webuser.verts import verts_decorated\n",
    "from lib.sphere_collisions import SphereCollisions\n",
    "from lib.max_mixture_prior import MaxMixtureCompletePrior\n",
    "from render_model import render_model\n",
    "from fit_3d_new import *\n",
    "import matplotlib.pyplot as plt\n",
    "import xml.etree.ElementTree as ET\n",
    "from os import makedirs\n",
    "import numpy.linalg as LA\n",
    "import os.path as OP\n",
    "%matplotlib inline\n",
    "##"
   ]
  },
  {
   "cell_type": "markdown",
   "metadata": {},
   "source": [
    "###  To Test on one frame"
   ]
  },
  {
   "cell_type": "code",
   "execution_count": 41,
   "metadata": {
    "collapsed": false
   },
   "outputs": [
    {
     "name": "stdout",
     "output_type": "stream",
     "text": [
      "(70,)\n",
      "(70,)\n",
      "(70,)\n",
      "(70,)\n",
      "1133.28360295\n"
     ]
    }
   ],
   "source": [
    "_LOGGER = logging.getLogger(__name__) \n",
    "input_arg = '../../db/manipulation_videos/barbell_0002/'\n",
    "list_img = sorted(glob(join(input_arg+'frames/', '*[0-9].jpg')))\n",
    "path_joint = input_arg+'joint/'\n",
    "output = input_arg+\"3d/continue/\"\n",
    "# Set up paths & load models.\n",
    "# Assumes 'models' in the 'code/' directory where this file is in.\n",
    "MODEL_DIR = join('/home/ubuntu/pynb/project/smplify_public/code', 'models')\n",
    "# Model paths:\n",
    "MODEL_NEUTRAL_PATH = join(\n",
    "    MODEL_DIR, 'basicModel_neutral_lbs_10_207_0_v1.0.0.pkl')\n",
    "MODEL_FEMALE_PATH = join(\n",
    "    MODEL_DIR, 'basicModel_f_lbs_10_207_0_v1.0.0.pkl')\n",
    "MODEL_MALE_PATH = join(MODEL_DIR,\n",
    "                       'basicmodel_m_lbs_10_207_0_v1.0.0.pkl')\n",
    "\n",
    "    # paths to the npz files storing the regressors for capsules\n",
    "SPH_REGS_NEUTRAL_PATH = join(MODEL_DIR,\n",
    "                             'regressors_locked_normalized_hybrid.npz')\n",
    "SPH_REGS_FEMALE_PATH = join(MODEL_DIR,\n",
    "                            'regressors_locked_normalized_female.npz')\n",
    "SPH_REGS_MALE_PATH = join(MODEL_DIR,\n",
    "                          'regressors_locked_normalized_male.npz')\n",
    "\n",
    "# parameter of the main\n",
    "n_betas=10\n",
    "flength=5000.\n",
    "pix_thsh=25.\n",
    "viz=False\n",
    "num = 89\n",
    "\n",
    "\n",
    "do_degrees=[0.]\n",
    "gender='male'\n",
    "model = load_model(MODEL_MALE_PATH)\n",
    "sph_regs = np.load(SPH_REGS_MALE_PATH)\n",
    "# First we do estimation for one frame\n",
    "est = np.load(join(path_joint, str(num)+'.npz'))['arr_0']\n",
    "img = cv2.imread(list_img[num])\n",
    "joints = est[:2, :].T\n",
    "conf = est[2, :]\n",
    "# \n",
    "t0 = time()\n",
    "params, vis, cam,try_both_orient, orient = run_single_fit(\n",
    "                    img,\n",
    "                    joints,\n",
    "                    conf,\n",
    "                    model,\n",
    "                regs=sph_regs,\n",
    "                n_betas=n_betas,\n",
    "                flength=flength,\n",
    "                pix_thsh=pix_thsh,\n",
    "                scale_factor=2,\n",
    "                viz=viz,\n",
    "                do_degrees=do_degrees)\n",
    "\n",
    "print(time()-t0)\n"
   ]
  },
  {
   "cell_type": "code",
   "execution_count": 35,
   "metadata": {
    "collapsed": false
   },
   "outputs": [
    {
     "data": {
      "text/plain": [
       "<matplotlib.image.AxesImage at 0x7fb9f05d1a90>"
      ]
     },
     "execution_count": 35,
     "metadata": {},
     "output_type": "execute_result"
    },
    {
     "data": {
      "image/png": "[encoded data removed]",
      "text/plain": [
       "<matplotlib.figure.Figure at 0x7fb9ec8a5790>"
      ]
     },
     "metadata": {},
     "output_type": "display_data"
    }
   ],
   "source": [
    "plt.imshow(vis[0])\n",
    "#plt.imsave('../../db/error_fixing_shape.png', vis[0])"
   ]
  },
  {
   "cell_type": "code",
   "execution_count": 11,
   "metadata": {
    "collapsed": false
   },
   "outputs": [],
   "source": [
    "import sys\n",
    "import os.path as OP\n",
    "from os import makedirs\n",
    "import cPickle as pickle\n",
    "from glob import glob\n",
    "import argparse\n",
    "import numpy as np\n",
    "import numpy.linalg as LA\n",
    "import chumpy as ch\n",
    "from smpl_webuser.serialization import load_model\n",
    "from smpl_webuser.lbs import global_rigid_transformation\n",
    "import xml.etree.ElementTree as ET\n",
    "\n",
    "def procrustes(A, B):\n",
    "    '''\n",
    "    Solves the orthogonal Procrustes problem given a set of 3D points A (3 x N)\n",
    "    and a set of target 3D points B (3 x N). Namely, it computes a group of\n",
    "    R(otation), t(ranslation) and s(cale) that aligns A with B.\n",
    "    '''\n",
    "    # input check\n",
    "    transposed = False\n",
    "    if A.shape[0]!=3:\n",
    "        A = A.T\n",
    "        B = B.T\n",
    "        transposed = True\n",
    "    N = A.shape[1]\n",
    "    assert(B.shape==(3,N))\n",
    "    # compute mean\n",
    "    a_bar = A.mean(axis=1, keepdims=True)\n",
    "    b_bar = B.mean(axis=1, keepdims=True)\n",
    "    # calculate rotation\n",
    "    A_c = A - a_bar\n",
    "    B_c = B - b_bar\n",
    "    M = A_c.dot(B_c.T)\n",
    "    U, Sigma, Vh = LA.svd(M)\n",
    "    V = Vh.T\n",
    "    Z = np.eye(U.shape[0])\n",
    "    Z[-1,-1] = LA.det(V)*LA.det(U)\n",
    "    R = V.dot(Z.dot(U.T))\n",
    "    # compute scale\n",
    "    s = np.trace(R.dot(M)) / np.trace(A_c.T.dot(A_c))\n",
    "    # compute translation\n",
    "    t = b_bar - s*(R.dot(a_bar))\n",
    "    # compute A after alignment\n",
    "    A_hat = s*(R.dot(A)) + t\n",
    "    if transposed:\n",
    "        A_hat = A_hat.T\n",
    "    return (R, t, s, A_hat)\n",
    "\n",
    "def compute_euclidean_dist(S1,S2,debug=False):\n",
    "    #print S1.shape, S2.shape\n",
    "    assert(S2.shape == S1.shape)\n",
    "    assert(S1.shape[1] == 3) # S1 and S2 should be of shape njoints x 3\n",
    "    distance = 0.\n",
    "    for i in range(S1.shape[0]):\n",
    "        distance += LA.norm(S1[i]-S2[i])\n",
    "        if debug:\n",
    "            print 'joint #{0}, distance {1}'.format(i,LA.norm(S1[i]-S2[i]))\n",
    "    distance /= S1.shape[0]\n",
    "    return distance\n",
    "\n",
    "def getJ3dPosFromXML(XMLPath, nameDict=None):\n",
    "    if nameDict is None:\n",
    "        nameDict = {'R_Ankle':0,\n",
    "                    'R_Knee':1,\n",
    "                    'R_Hip':2,\n",
    "                    'L_Hip':3,\n",
    "                    'L_Knee':4,\n",
    "                    'L_Ankle':5,\n",
    "                    'R_Wrist':6,\n",
    "                    'R_Elbow':7,\n",
    "                    'R_Shoulder':8,\n",
    "                    'L_Shoulder':9,\n",
    "                    'L_Elbow':10,\n",
    "                    'L_Wrist':11}\n",
    "    annotation = ET.parse(XMLPath).getroot()\n",
    "    keypoints = annotation.find('keypoints')\n",
    "    GTPos = np.zeros((12,3))\n",
    "    for keypoint in keypoints.findall('keypoint'):\n",
    "        name = keypoint.get('name')\n",
    "        x = float(keypoint.get('x'))\n",
    "        y = float(keypoint.get('y'))\n",
    "        # pay attention: convert to right hand coordinate frame by multiplying -1\n",
    "        z = -1.*float(keypoint.get('z'))\n",
    "        if name in nameDict.keys():\n",
    "            GTPos[nameDict[name]] = np.array([x,y,z])\n",
    "    return GTPos\n",
    "\n"
   ]
  },
  {
   "cell_type": "code",
   "execution_count": 32,
   "metadata": {
    "collapsed": false
   },
   "outputs": [],
   "source": [
    "# Test open xml path\n",
    "xml_path = '/home/ubuntu/pynb/project/db/manipulation_videos/annotation/barbell_0002_f154-250/info/000160_0.xml'\n",
    "gt_pos = getJ3dPosFromXML(xml_path)\n",
    "# open pose estimator\n",
    "\n",
    "jointIdx = [8, 5, 2, 1, 4, 7, 21, 19, 17, 16, 18, 20] # SMPL index\n",
    "limbNames = ['left arm', 'right arm', 'left leg', 'right leg']\n",
    "limbIdx = [[9,10,11], [6,7,8], [3,4,5], [0,1,2]] # new index\n",
    "pkl_path = '/home/ubuntu/pynb/project/db/manipulation_videos/barbell_0002/3d/continue/0160.pkl'\n",
    "with open(pkl_path) as f:\n",
    "    smpl_data = pickle.load(f)\n",
    "# load shape and get 3D positions\n",
    "betas = smpl_data['betas']\n",
    "j3dDirs = np.dstack([model.J_regressor.dot(model.shapedirs[:,:,i]) for i in range(n_betas)])\n",
    "j3dCanoPos = ch.array(j3dDirs).dot(betas) + model.J_regressor.dot(model.v_template.r)\n",
    "\n",
    "posePaths = {}\n"
   ]
  },
  {
   "cell_type": "code",
   "execution_count": 31,
   "metadata": {
    "collapsed": false
   },
   "outputs": [
    {
     "data": {
      "text/plain": [
       "10"
      ]
     },
     "execution_count": 31,
     "metadata": {},
     "output_type": "execute_result"
    }
   ],
   "source": []
  }
 ],
 "metadata": {
  "hide_input": false,
  "kernelspec": {
   "display_name": "Python 2",
   "language": "python",
   "name": "python2"
  },
  "language_info": {
   "codemirror_mode": {
    "name": "ipython",
    "version": 2
   },
   "file_extension": ".py",
   "mimetype": "text/x-python",
   "name": "python",
   "nbconvert_exporter": "python",
   "pygments_lexer": "ipython2",
   "version": "2.7.6"
  }
 },
 "nbformat": 4,
 "nbformat_minor": 1
}
